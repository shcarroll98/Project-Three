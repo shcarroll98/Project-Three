{
 "cells": [
  {
   "cell_type": "code",
   "execution_count": 180,
   "id": "63501018-b67e-4cc8-afa3-c26b1bdc3324",
   "metadata": {
    "tags": []
   },
   "outputs": [],
   "source": [
    "# Import dependencies\n",
    "import pandas as pd\n",
    "from pymongo import MongoClient\n",
    "from pprint import pprint\n",
    "import seaborn as sns"
   ]
  },
  {
   "cell_type": "code",
   "execution_count": 181,
   "id": "e73a0c39-d812-4769-a9b9-53790fec69bb",
   "metadata": {
    "tags": []
   },
   "outputs": [],
   "source": [
    "# Read our data file with the Pandas library\n",
    "sp500_df = pd.read_csv(\"data.csv\", encoding = \"ISO-8859-1\")"
   ]
  },
  {
   "cell_type": "code",
   "execution_count": 182,
   "id": "b6ae254b-062c-4dd2-881b-fbe12ee099bc",
   "metadata": {
    "tags": []
   },
   "outputs": [
    {
     "data": {
      "text/html": [
       "<div>\n",
       "<style scoped>\n",
       "    .dataframe tbody tr th:only-of-type {\n",
       "        vertical-align: middle;\n",
       "    }\n",
       "\n",
       "    .dataframe tbody tr th {\n",
       "        vertical-align: top;\n",
       "    }\n",
       "\n",
       "    .dataframe thead th {\n",
       "        text-align: right;\n",
       "    }\n",
       "</style>\n",
       "<table border=\"1\" class=\"dataframe\">\n",
       "  <thead>\n",
       "    <tr style=\"text-align: right;\">\n",
       "      <th></th>\n",
       "      <th>ticker</th>\n",
       "      <th>name</th>\n",
       "      <th>currency</th>\n",
       "      <th>exchange</th>\n",
       "      <th>industry</th>\n",
       "      <th>logo</th>\n",
       "      <th>weburl</th>\n",
       "      <th>environment_grade</th>\n",
       "      <th>environment_level</th>\n",
       "      <th>social_grade</th>\n",
       "      <th>...</th>\n",
       "      <th>governance_grade</th>\n",
       "      <th>governance_level</th>\n",
       "      <th>environment_score</th>\n",
       "      <th>social_score</th>\n",
       "      <th>governance_score</th>\n",
       "      <th>total_score</th>\n",
       "      <th>last_processing_date</th>\n",
       "      <th>total_grade</th>\n",
       "      <th>total_level</th>\n",
       "      <th>cik</th>\n",
       "    </tr>\n",
       "  </thead>\n",
       "  <tbody>\n",
       "    <tr>\n",
       "      <th>0</th>\n",
       "      <td>dis</td>\n",
       "      <td>Walt Disney Co</td>\n",
       "      <td>USD</td>\n",
       "      <td>NEW YORK STOCK EXCHANGE, INC.</td>\n",
       "      <td>Media</td>\n",
       "      <td>https://static.finnhub.io/logo/ef50b4a2b263c84...</td>\n",
       "      <td>https://thewaltdisneycompany.com/</td>\n",
       "      <td>A</td>\n",
       "      <td>High</td>\n",
       "      <td>BB</td>\n",
       "      <td>...</td>\n",
       "      <td>BB</td>\n",
       "      <td>Medium</td>\n",
       "      <td>510</td>\n",
       "      <td>316</td>\n",
       "      <td>321</td>\n",
       "      <td>1147</td>\n",
       "      <td>19-04-2022</td>\n",
       "      <td>BBB</td>\n",
       "      <td>High</td>\n",
       "      <td>1744489</td>\n",
       "    </tr>\n",
       "    <tr>\n",
       "      <th>1</th>\n",
       "      <td>gm</td>\n",
       "      <td>General Motors Co</td>\n",
       "      <td>USD</td>\n",
       "      <td>NEW YORK STOCK EXCHANGE, INC.</td>\n",
       "      <td>Automobiles</td>\n",
       "      <td>https://static.finnhub.io/logo/9253db78-80c9-1...</td>\n",
       "      <td>https://www.gm.com/</td>\n",
       "      <td>A</td>\n",
       "      <td>High</td>\n",
       "      <td>BB</td>\n",
       "      <td>...</td>\n",
       "      <td>B</td>\n",
       "      <td>Medium</td>\n",
       "      <td>510</td>\n",
       "      <td>303</td>\n",
       "      <td>255</td>\n",
       "      <td>1068</td>\n",
       "      <td>17-04-2022</td>\n",
       "      <td>BBB</td>\n",
       "      <td>High</td>\n",
       "      <td>1467858</td>\n",
       "    </tr>\n",
       "    <tr>\n",
       "      <th>2</th>\n",
       "      <td>gww</td>\n",
       "      <td>WW Grainger Inc</td>\n",
       "      <td>USD</td>\n",
       "      <td>NEW YORK STOCK EXCHANGE, INC.</td>\n",
       "      <td>Trading Companies and Distributors</td>\n",
       "      <td>https://static.finnhub.io/logo/f153dcda-80eb-1...</td>\n",
       "      <td>https://www.grainger.com/</td>\n",
       "      <td>B</td>\n",
       "      <td>Medium</td>\n",
       "      <td>BB</td>\n",
       "      <td>...</td>\n",
       "      <td>B</td>\n",
       "      <td>Medium</td>\n",
       "      <td>255</td>\n",
       "      <td>385</td>\n",
       "      <td>240</td>\n",
       "      <td>880</td>\n",
       "      <td>19-04-2022</td>\n",
       "      <td>BB</td>\n",
       "      <td>Medium</td>\n",
       "      <td>277135</td>\n",
       "    </tr>\n",
       "    <tr>\n",
       "      <th>3</th>\n",
       "      <td>mhk</td>\n",
       "      <td>Mohawk Industries Inc</td>\n",
       "      <td>USD</td>\n",
       "      <td>NEW YORK STOCK EXCHANGE, INC.</td>\n",
       "      <td>Consumer products</td>\n",
       "      <td>https://static.finnhub.io/logo/26868a62-80ec-1...</td>\n",
       "      <td>https://mohawkind.com/</td>\n",
       "      <td>A</td>\n",
       "      <td>High</td>\n",
       "      <td>B</td>\n",
       "      <td>...</td>\n",
       "      <td>BB</td>\n",
       "      <td>Medium</td>\n",
       "      <td>570</td>\n",
       "      <td>298</td>\n",
       "      <td>303</td>\n",
       "      <td>1171</td>\n",
       "      <td>18-04-2022</td>\n",
       "      <td>BBB</td>\n",
       "      <td>High</td>\n",
       "      <td>851968</td>\n",
       "    </tr>\n",
       "    <tr>\n",
       "      <th>4</th>\n",
       "      <td>lyv</td>\n",
       "      <td>Live Nation Entertainment Inc</td>\n",
       "      <td>USD</td>\n",
       "      <td>NEW YORK STOCK EXCHANGE, INC.</td>\n",
       "      <td>Media</td>\n",
       "      <td>https://static.finnhub.io/logo/1cd144d2-80ec-1...</td>\n",
       "      <td>https://www.livenationentertainment.com/</td>\n",
       "      <td>BBB</td>\n",
       "      <td>High</td>\n",
       "      <td>BB</td>\n",
       "      <td>...</td>\n",
       "      <td>B</td>\n",
       "      <td>Medium</td>\n",
       "      <td>492</td>\n",
       "      <td>310</td>\n",
       "      <td>250</td>\n",
       "      <td>1052</td>\n",
       "      <td>18-04-2022</td>\n",
       "      <td>BBB</td>\n",
       "      <td>High</td>\n",
       "      <td>1335258</td>\n",
       "    </tr>\n",
       "  </tbody>\n",
       "</table>\n",
       "<p>5 rows × 21 columns</p>\n",
       "</div>"
      ],
      "text/plain": [
       "  ticker                           name currency  \\\n",
       "0    dis                 Walt Disney Co      USD   \n",
       "1     gm              General Motors Co      USD   \n",
       "2    gww                WW Grainger Inc      USD   \n",
       "3    mhk          Mohawk Industries Inc      USD   \n",
       "4    lyv  Live Nation Entertainment Inc      USD   \n",
       "\n",
       "                        exchange                            industry  \\\n",
       "0  NEW YORK STOCK EXCHANGE, INC.                               Media   \n",
       "1  NEW YORK STOCK EXCHANGE, INC.                         Automobiles   \n",
       "2  NEW YORK STOCK EXCHANGE, INC.  Trading Companies and Distributors   \n",
       "3  NEW YORK STOCK EXCHANGE, INC.                   Consumer products   \n",
       "4  NEW YORK STOCK EXCHANGE, INC.                               Media   \n",
       "\n",
       "                                                logo  \\\n",
       "0  https://static.finnhub.io/logo/ef50b4a2b263c84...   \n",
       "1  https://static.finnhub.io/logo/9253db78-80c9-1...   \n",
       "2  https://static.finnhub.io/logo/f153dcda-80eb-1...   \n",
       "3  https://static.finnhub.io/logo/26868a62-80ec-1...   \n",
       "4  https://static.finnhub.io/logo/1cd144d2-80ec-1...   \n",
       "\n",
       "                                     weburl environment_grade  \\\n",
       "0         https://thewaltdisneycompany.com/                 A   \n",
       "1                       https://www.gm.com/                 A   \n",
       "2                 https://www.grainger.com/                 B   \n",
       "3                    https://mohawkind.com/                 A   \n",
       "4  https://www.livenationentertainment.com/               BBB   \n",
       "\n",
       "  environment_level social_grade  ... governance_grade governance_level  \\\n",
       "0              High           BB  ...               BB           Medium   \n",
       "1              High           BB  ...                B           Medium   \n",
       "2            Medium           BB  ...                B           Medium   \n",
       "3              High            B  ...               BB           Medium   \n",
       "4              High           BB  ...                B           Medium   \n",
       "\n",
       "  environment_score  social_score  governance_score  total_score  \\\n",
       "0               510           316               321         1147   \n",
       "1               510           303               255         1068   \n",
       "2               255           385               240          880   \n",
       "3               570           298               303         1171   \n",
       "4               492           310               250         1052   \n",
       "\n",
       "   last_processing_date total_grade total_level      cik  \n",
       "0            19-04-2022         BBB        High  1744489  \n",
       "1            17-04-2022         BBB        High  1467858  \n",
       "2            19-04-2022          BB      Medium   277135  \n",
       "3            18-04-2022         BBB        High   851968  \n",
       "4            18-04-2022         BBB        High  1335258  \n",
       "\n",
       "[5 rows x 21 columns]"
      ]
     },
     "execution_count": 182,
     "metadata": {},
     "output_type": "execute_result"
    }
   ],
   "source": [
    "# Show the first five rows.\n",
    "sp500_df.head()"
   ]
  },
  {
   "cell_type": "code",
   "execution_count": 183,
   "id": "277365f2-2e00-454d-95bb-7db0a582092d",
   "metadata": {
    "tags": []
   },
   "outputs": [
    {
     "data": {
      "text/plain": [
       "<Axes: >"
      ]
     },
     "execution_count": 183,
     "metadata": {},
     "output_type": "execute_result"
    },
    {
     "data": {
      "image/png": "[encoded data removed]",
      "text/plain": [
       "<Figure size 640x480 with 1 Axes>"
      ]
     },
     "metadata": {},
     "output_type": "display_data"
    }
   ],
   "source": [
    "sns.heatmap(data_df.isnull(), cbar = False)"
   ]
  },
  {
   "cell_type": "code",
   "execution_count": 184,
   "id": "039fe28a-7ffd-4661-b834-e1b031dd191e",
   "metadata": {
    "tags": []
   },
   "outputs": [
    {
     "name": "stdout",
     "output_type": "stream",
     "text": [
      "    last_processing_date Formatted Date\n",
      "0             2022-04-19     04/19/2022\n",
      "1             2022-04-17     04/17/2022\n",
      "2             2022-04-19     04/19/2022\n",
      "3             2022-04-18     04/18/2022\n",
      "4             2022-04-18     04/18/2022\n",
      "..                   ...            ...\n",
      "717           2022-07-11     07/11/2022\n",
      "718           2022-07-11     07/11/2022\n",
      "719           2022-07-11     07/11/2022\n",
      "720           2022-11-15     11/15/2022\n",
      "721           2022-07-11     07/11/2022\n",
      "\n",
      "[722 rows x 2 columns]\n"
     ]
    }
   ],
   "source": [
    "# Convert the 'Date' column to datetime\n",
    "sp500_df[\"last_processing_date\"] = pd.to_datetime(sp500_df[\"last_processing_date\"], format = \"mixed\")\n",
    "\n",
    "# Change the format to mm/dd/yyyy\n",
    "sp500_df[\"Formatted Date\"] = sp500_df[\"last_processing_date\"].dt.strftime(\"%m/%d/%Y\")\n",
    "\n",
    "print(sp500_df[[\"last_processing_date\", \"Formatted Date\"]])"
   ]
  },
  {
   "cell_type": "code",
   "execution_count": 185,
   "id": "a9906b90-5f6f-487b-94d3-32ef578078f3",
   "metadata": {
    "tags": []
   },
   "outputs": [],
   "source": [
    "# Drop the \"last_processing_date\" column\n",
    "data_df = sp500_df.drop(columns=[\"last_processing_date\"])"
   ]
  },
  {
   "cell_type": "code",
   "execution_count": 186,
   "id": "f889fc8d-ff2a-4d63-b68f-e5c39c6e0cdd",
   "metadata": {
    "tags": []
   },
   "outputs": [],
   "source": [
    "# \n",
    "data_df[\"ticker\"] = data_df[\"ticker\"].str.upper()"
   ]
  },
  {
   "cell_type": "code",
   "execution_count": 187,
   "id": "aa8cdcbd-9c64-44f6-8d43-1b17f91a7e07",
   "metadata": {
    "tags": []
   },
   "outputs": [],
   "source": [
    "# \n",
    "data_df[\"ticker/date\"] = data_df[\"ticker\"] + data_df[\"Formatted Date\"]"
   ]
  },
  {
   "cell_type": "code",
   "execution_count": 190,
   "id": "57f9a796-8b30-449d-801b-fe061a66305d",
   "metadata": {
    "tags": []
   },
   "outputs": [
    {
     "data": {
      "text/html": [
       "<div>\n",
       "<style scoped>\n",
       "    .dataframe tbody tr th:only-of-type {\n",
       "        vertical-align: middle;\n",
       "    }\n",
       "\n",
       "    .dataframe tbody tr th {\n",
       "        vertical-align: top;\n",
       "    }\n",
       "\n",
       "    .dataframe thead th {\n",
       "        text-align: right;\n",
       "    }\n",
       "</style>\n",
       "<table border=\"1\" class=\"dataframe\">\n",
       "  <thead>\n",
       "    <tr style=\"text-align: right;\">\n",
       "      <th></th>\n",
       "      <th>ticker</th>\n",
       "      <th>name</th>\n",
       "      <th>currency</th>\n",
       "      <th>exchange</th>\n",
       "      <th>industry</th>\n",
       "      <th>logo</th>\n",
       "      <th>weburl</th>\n",
       "      <th>environment_grade</th>\n",
       "      <th>environment_level</th>\n",
       "      <th>social_grade</th>\n",
       "      <th>...</th>\n",
       "      <th>governance_level</th>\n",
       "      <th>environment_score</th>\n",
       "      <th>social_score</th>\n",
       "      <th>governance_score</th>\n",
       "      <th>total_score</th>\n",
       "      <th>total_grade</th>\n",
       "      <th>total_level</th>\n",
       "      <th>cik</th>\n",
       "      <th>Formatted Date</th>\n",
       "      <th>ticker/date</th>\n",
       "    </tr>\n",
       "  </thead>\n",
       "  <tbody>\n",
       "    <tr>\n",
       "      <th>0</th>\n",
       "      <td>DIS</td>\n",
       "      <td>Walt Disney Co</td>\n",
       "      <td>USD</td>\n",
       "      <td>NEW YORK STOCK EXCHANGE, INC.</td>\n",
       "      <td>Media</td>\n",
       "      <td>https://static.finnhub.io/logo/ef50b4a2b263c84...</td>\n",
       "      <td>https://thewaltdisneycompany.com/</td>\n",
       "      <td>A</td>\n",
       "      <td>High</td>\n",
       "      <td>BB</td>\n",
       "      <td>...</td>\n",
       "      <td>Medium</td>\n",
       "      <td>510</td>\n",
       "      <td>316</td>\n",
       "      <td>321</td>\n",
       "      <td>1147</td>\n",
       "      <td>BBB</td>\n",
       "      <td>High</td>\n",
       "      <td>1744489</td>\n",
       "      <td>04/19/2022</td>\n",
       "      <td>DIS04/19/2022</td>\n",
       "    </tr>\n",
       "    <tr>\n",
       "      <th>1</th>\n",
       "      <td>GM</td>\n",
       "      <td>General Motors Co</td>\n",
       "      <td>USD</td>\n",
       "      <td>NEW YORK STOCK EXCHANGE, INC.</td>\n",
       "      <td>Automobiles</td>\n",
       "      <td>https://static.finnhub.io/logo/9253db78-80c9-1...</td>\n",
       "      <td>https://www.gm.com/</td>\n",
       "      <td>A</td>\n",
       "      <td>High</td>\n",
       "      <td>BB</td>\n",
       "      <td>...</td>\n",
       "      <td>Medium</td>\n",
       "      <td>510</td>\n",
       "      <td>303</td>\n",
       "      <td>255</td>\n",
       "      <td>1068</td>\n",
       "      <td>BBB</td>\n",
       "      <td>High</td>\n",
       "      <td>1467858</td>\n",
       "      <td>04/17/2022</td>\n",
       "      <td>GM04/17/2022</td>\n",
       "    </tr>\n",
       "    <tr>\n",
       "      <th>2</th>\n",
       "      <td>GWW</td>\n",
       "      <td>WW Grainger Inc</td>\n",
       "      <td>USD</td>\n",
       "      <td>NEW YORK STOCK EXCHANGE, INC.</td>\n",
       "      <td>Trading Companies and Distributors</td>\n",
       "      <td>https://static.finnhub.io/logo/f153dcda-80eb-1...</td>\n",
       "      <td>https://www.grainger.com/</td>\n",
       "      <td>B</td>\n",
       "      <td>Medium</td>\n",
       "      <td>BB</td>\n",
       "      <td>...</td>\n",
       "      <td>Medium</td>\n",
       "      <td>255</td>\n",
       "      <td>385</td>\n",
       "      <td>240</td>\n",
       "      <td>880</td>\n",
       "      <td>BB</td>\n",
       "      <td>Medium</td>\n",
       "      <td>277135</td>\n",
       "      <td>04/19/2022</td>\n",
       "      <td>GWW04/19/2022</td>\n",
       "    </tr>\n",
       "    <tr>\n",
       "      <th>3</th>\n",
       "      <td>MHK</td>\n",
       "      <td>Mohawk Industries Inc</td>\n",
       "      <td>USD</td>\n",
       "      <td>NEW YORK STOCK EXCHANGE, INC.</td>\n",
       "      <td>Consumer products</td>\n",
       "      <td>https://static.finnhub.io/logo/26868a62-80ec-1...</td>\n",
       "      <td>https://mohawkind.com/</td>\n",
       "      <td>A</td>\n",
       "      <td>High</td>\n",
       "      <td>B</td>\n",
       "      <td>...</td>\n",
       "      <td>Medium</td>\n",
       "      <td>570</td>\n",
       "      <td>298</td>\n",
       "      <td>303</td>\n",
       "      <td>1171</td>\n",
       "      <td>BBB</td>\n",
       "      <td>High</td>\n",
       "      <td>851968</td>\n",
       "      <td>04/18/2022</td>\n",
       "      <td>MHK04/18/2022</td>\n",
       "    </tr>\n",
       "    <tr>\n",
       "      <th>4</th>\n",
       "      <td>LYV</td>\n",
       "      <td>Live Nation Entertainment Inc</td>\n",
       "      <td>USD</td>\n",
       "      <td>NEW YORK STOCK EXCHANGE, INC.</td>\n",
       "      <td>Media</td>\n",
       "      <td>https://static.finnhub.io/logo/1cd144d2-80ec-1...</td>\n",
       "      <td>https://www.livenationentertainment.com/</td>\n",
       "      <td>BBB</td>\n",
       "      <td>High</td>\n",
       "      <td>BB</td>\n",
       "      <td>...</td>\n",
       "      <td>Medium</td>\n",
       "      <td>492</td>\n",
       "      <td>310</td>\n",
       "      <td>250</td>\n",
       "      <td>1052</td>\n",
       "      <td>BBB</td>\n",
       "      <td>High</td>\n",
       "      <td>1335258</td>\n",
       "      <td>04/18/2022</td>\n",
       "      <td>LYV04/18/2022</td>\n",
       "    </tr>\n",
       "  </tbody>\n",
       "</table>\n",
       "<p>5 rows × 22 columns</p>\n",
       "</div>"
      ],
      "text/plain": [
       "  ticker                           name currency  \\\n",
       "0    DIS                 Walt Disney Co      USD   \n",
       "1     GM              General Motors Co      USD   \n",
       "2    GWW                WW Grainger Inc      USD   \n",
       "3    MHK          Mohawk Industries Inc      USD   \n",
       "4    LYV  Live Nation Entertainment Inc      USD   \n",
       "\n",
       "                        exchange                            industry  \\\n",
       "0  NEW YORK STOCK EXCHANGE, INC.                               Media   \n",
       "1  NEW YORK STOCK EXCHANGE, INC.                         Automobiles   \n",
       "2  NEW YORK STOCK EXCHANGE, INC.  Trading Companies and Distributors   \n",
       "3  NEW YORK STOCK EXCHANGE, INC.                   Consumer products   \n",
       "4  NEW YORK STOCK EXCHANGE, INC.                               Media   \n",
       "\n",
       "                                                logo  \\\n",
       "0  https://static.finnhub.io/logo/ef50b4a2b263c84...   \n",
       "1  https://static.finnhub.io/logo/9253db78-80c9-1...   \n",
       "2  https://static.finnhub.io/logo/f153dcda-80eb-1...   \n",
       "3  https://static.finnhub.io/logo/26868a62-80ec-1...   \n",
       "4  https://static.finnhub.io/logo/1cd144d2-80ec-1...   \n",
       "\n",
       "                                     weburl environment_grade  \\\n",
       "0         https://thewaltdisneycompany.com/                 A   \n",
       "1                       https://www.gm.com/                 A   \n",
       "2                 https://www.grainger.com/                 B   \n",
       "3                    https://mohawkind.com/                 A   \n",
       "4  https://www.livenationentertainment.com/               BBB   \n",
       "\n",
       "  environment_level social_grade  ... governance_level environment_score  \\\n",
       "0              High           BB  ...           Medium               510   \n",
       "1              High           BB  ...           Medium               510   \n",
       "2            Medium           BB  ...           Medium               255   \n",
       "3              High            B  ...           Medium               570   \n",
       "4              High           BB  ...           Medium               492   \n",
       "\n",
       "  social_score  governance_score  total_score  total_grade  total_level  \\\n",
       "0          316               321         1147          BBB         High   \n",
       "1          303               255         1068          BBB         High   \n",
       "2          385               240          880           BB       Medium   \n",
       "3          298               303         1171          BBB         High   \n",
       "4          310               250         1052          BBB         High   \n",
       "\n",
       "       cik Formatted Date    ticker/date  \n",
       "0  1744489     04/19/2022  DIS04/19/2022  \n",
       "1  1467858     04/17/2022   GM04/17/2022  \n",
       "2   277135     04/19/2022  GWW04/19/2022  \n",
       "3   851968     04/18/2022  MHK04/18/2022  \n",
       "4  1335258     04/18/2022  LYV04/18/2022  \n",
       "\n",
       "[5 rows x 22 columns]"
      ]
     },
     "execution_count": 190,
     "metadata": {},
     "output_type": "execute_result"
    }
   ],
   "source": [
    "data_df.head()"
   ]
  },
  {
   "cell_type": "code",
   "execution_count": 191,
   "id": "dc0bfb08-a7e2-46a2-ba35-22e1be613b02",
   "metadata": {
    "tags": []
   },
   "outputs": [],
   "source": [
    "# Save the DataFrame to a CSV file\n",
    "data_df.to_csv(\"sp500.csv\", index = False)"
   ]
  },
  {
   "cell_type": "code",
   "execution_count": null,
   "id": "81291ce1-88d0-44bd-b92c-386f4013f240",
   "metadata": {},
   "outputs": [],
   "source": [
    "\n",
    "\n",
    "\n"
   ]
  },
  {
   "cell_type": "code",
   "execution_count": 192,
   "id": "6bf35b83-3f5a-4eed-a404-8ccfcf91a0ce",
   "metadata": {
    "tags": []
   },
   "outputs": [],
   "source": [
    "# Read our data file with the Pandas library\n",
    "open_close_df = pd.read_csv(\"datefilteredesgdata.csv\", encoding = \"ISO-8859-1\")"
   ]
  },
  {
   "cell_type": "code",
   "execution_count": 193,
   "id": "2ec2e17f-1d91-47e3-8c76-cdfd173100dc",
   "metadata": {
    "tags": []
   },
   "outputs": [
    {
     "data": {
      "text/html": [
       "<div>\n",
       "<style scoped>\n",
       "    .dataframe tbody tr th:only-of-type {\n",
       "        vertical-align: middle;\n",
       "    }\n",
       "\n",
       "    .dataframe tbody tr th {\n",
       "        vertical-align: top;\n",
       "    }\n",
       "\n",
       "    .dataframe thead th {\n",
       "        text-align: right;\n",
       "    }\n",
       "</style>\n",
       "<table border=\"1\" class=\"dataframe\">\n",
       "  <thead>\n",
       "    <tr style=\"text-align: right;\">\n",
       "      <th></th>\n",
       "      <th>Date</th>\n",
       "      <th>Symbol</th>\n",
       "      <th>Adj Close</th>\n",
       "      <th>Close</th>\n",
       "      <th>High</th>\n",
       "      <th>Low</th>\n",
       "      <th>Open</th>\n",
       "      <th>Volume</th>\n",
       "    </tr>\n",
       "  </thead>\n",
       "  <tbody>\n",
       "    <tr>\n",
       "      <th>0</th>\n",
       "      <td>2022-01-03</td>\n",
       "      <td>MMM</td>\n",
       "      <td>146.910370</td>\n",
       "      <td>148.612045</td>\n",
       "      <td>149.740799</td>\n",
       "      <td>147.023407</td>\n",
       "      <td>149.096985</td>\n",
       "      <td>2309117.0</td>\n",
       "    </tr>\n",
       "    <tr>\n",
       "      <th>1</th>\n",
       "      <td>2022-01-04</td>\n",
       "      <td>MMM</td>\n",
       "      <td>148.968475</td>\n",
       "      <td>150.693985</td>\n",
       "      <td>151.555191</td>\n",
       "      <td>148.854507</td>\n",
       "      <td>149.230774</td>\n",
       "      <td>3016551.0</td>\n",
       "    </tr>\n",
       "    <tr>\n",
       "      <th>2</th>\n",
       "      <td>2022-01-05</td>\n",
       "      <td>MMM</td>\n",
       "      <td>148.356827</td>\n",
       "      <td>150.075256</td>\n",
       "      <td>151.989960</td>\n",
       "      <td>147.993317</td>\n",
       "      <td>148.102005</td>\n",
       "      <td>3531070.0</td>\n",
       "    </tr>\n",
       "    <tr>\n",
       "      <th>3</th>\n",
       "      <td>2022-01-06</td>\n",
       "      <td>MMM</td>\n",
       "      <td>147.125275</td>\n",
       "      <td>148.829437</td>\n",
       "      <td>151.571899</td>\n",
       "      <td>148.444809</td>\n",
       "      <td>151.237457</td>\n",
       "      <td>2996458.0</td>\n",
       "    </tr>\n",
       "    <tr>\n",
       "      <th>4</th>\n",
       "      <td>2022-01-07</td>\n",
       "      <td>MMM</td>\n",
       "      <td>148.737030</td>\n",
       "      <td>150.459869</td>\n",
       "      <td>150.911377</td>\n",
       "      <td>148.177261</td>\n",
       "      <td>148.938126</td>\n",
       "      <td>3349039.0</td>\n",
       "    </tr>\n",
       "  </tbody>\n",
       "</table>\n",
       "</div>"
      ],
      "text/plain": [
       "         Date Symbol   Adj Close       Close        High         Low  \\\n",
       "0  2022-01-03    MMM  146.910370  148.612045  149.740799  147.023407   \n",
       "1  2022-01-04    MMM  148.968475  150.693985  151.555191  148.854507   \n",
       "2  2022-01-05    MMM  148.356827  150.075256  151.989960  147.993317   \n",
       "3  2022-01-06    MMM  147.125275  148.829437  151.571899  148.444809   \n",
       "4  2022-01-07    MMM  148.737030  150.459869  150.911377  148.177261   \n",
       "\n",
       "         Open     Volume  \n",
       "0  149.096985  2309117.0  \n",
       "1  149.230774  3016551.0  \n",
       "2  148.102005  3531070.0  \n",
       "3  151.237457  2996458.0  \n",
       "4  148.938126  3349039.0  "
      ]
     },
     "execution_count": 193,
     "metadata": {},
     "output_type": "execute_result"
    }
   ],
   "source": [
    "# Show the first five rows.\n",
    "open_close_df.head()"
   ]
  },
  {
   "cell_type": "code",
   "execution_count": 194,
   "id": "e6afecb1-1296-4a30-97ba-362e2353e91e",
   "metadata": {
    "tags": []
   },
   "outputs": [],
   "source": [
    "# Convert the \"Date\" column to datetime for open_close_df\n",
    "open_close_df[\"Date\"] = pd.to_datetime(open_close_df[\"Date\"])"
   ]
  },
  {
   "cell_type": "code",
   "execution_count": 195,
   "id": "792b5718-d61a-41af-958e-acce36afdcfb",
   "metadata": {
    "tags": []
   },
   "outputs": [
    {
     "name": "stdout",
     "output_type": "stream",
     "text": [
      "             Date Formatted Date\n",
      "0      2022-01-03     01/03/2022\n",
      "1      2022-01-04     01/04/2022\n",
      "2      2022-01-05     01/05/2022\n",
      "3      2022-01-06     01/06/2022\n",
      "4      2022-01-07     01/07/2022\n",
      "...           ...            ...\n",
      "126248 2022-12-23     12/23/2022\n",
      "126249 2022-12-27     12/27/2022\n",
      "126250 2022-12-28     12/28/2022\n",
      "126251 2022-12-29     12/29/2022\n",
      "126252 2022-12-30     12/30/2022\n",
      "\n",
      "[126253 rows x 2 columns]\n"
     ]
    }
   ],
   "source": [
    "# Change the format to mm/dd/yyyy\n",
    "open_close_df[\"Formatted Date\"] = open_close_df[\"Date\"].dt.strftime(\"%m/%d/%Y\")\n",
    "\n",
    "print(open_close_df[[\"Date\", \"Formatted Date\"]])"
   ]
  },
  {
   "cell_type": "code",
   "execution_count": 196,
   "id": "5559ccb4-402f-4421-adb6-01da2bd35f59",
   "metadata": {
    "tags": []
   },
   "outputs": [
    {
     "data": {
      "text/html": [
       "<div>\n",
       "<style scoped>\n",
       "    .dataframe tbody tr th:only-of-type {\n",
       "        vertical-align: middle;\n",
       "    }\n",
       "\n",
       "    .dataframe tbody tr th {\n",
       "        vertical-align: top;\n",
       "    }\n",
       "\n",
       "    .dataframe thead th {\n",
       "        text-align: right;\n",
       "    }\n",
       "</style>\n",
       "<table border=\"1\" class=\"dataframe\">\n",
       "  <thead>\n",
       "    <tr style=\"text-align: right;\">\n",
       "      <th></th>\n",
       "      <th>Date</th>\n",
       "      <th>Symbol</th>\n",
       "      <th>Adj Close</th>\n",
       "      <th>Close</th>\n",
       "      <th>High</th>\n",
       "      <th>Low</th>\n",
       "      <th>Open</th>\n",
       "      <th>Volume</th>\n",
       "      <th>Formatted Date</th>\n",
       "    </tr>\n",
       "  </thead>\n",
       "  <tbody>\n",
       "    <tr>\n",
       "      <th>0</th>\n",
       "      <td>2022-01-03</td>\n",
       "      <td>MMM</td>\n",
       "      <td>146.910370</td>\n",
       "      <td>148.612045</td>\n",
       "      <td>149.740799</td>\n",
       "      <td>147.023407</td>\n",
       "      <td>149.096985</td>\n",
       "      <td>2309117.0</td>\n",
       "      <td>01/03/2022</td>\n",
       "    </tr>\n",
       "    <tr>\n",
       "      <th>1</th>\n",
       "      <td>2022-01-04</td>\n",
       "      <td>MMM</td>\n",
       "      <td>148.968475</td>\n",
       "      <td>150.693985</td>\n",
       "      <td>151.555191</td>\n",
       "      <td>148.854507</td>\n",
       "      <td>149.230774</td>\n",
       "      <td>3016551.0</td>\n",
       "      <td>01/04/2022</td>\n",
       "    </tr>\n",
       "    <tr>\n",
       "      <th>2</th>\n",
       "      <td>2022-01-05</td>\n",
       "      <td>MMM</td>\n",
       "      <td>148.356827</td>\n",
       "      <td>150.075256</td>\n",
       "      <td>151.989960</td>\n",
       "      <td>147.993317</td>\n",
       "      <td>148.102005</td>\n",
       "      <td>3531070.0</td>\n",
       "      <td>01/05/2022</td>\n",
       "    </tr>\n",
       "    <tr>\n",
       "      <th>3</th>\n",
       "      <td>2022-01-06</td>\n",
       "      <td>MMM</td>\n",
       "      <td>147.125275</td>\n",
       "      <td>148.829437</td>\n",
       "      <td>151.571899</td>\n",
       "      <td>148.444809</td>\n",
       "      <td>151.237457</td>\n",
       "      <td>2996458.0</td>\n",
       "      <td>01/06/2022</td>\n",
       "    </tr>\n",
       "    <tr>\n",
       "      <th>4</th>\n",
       "      <td>2022-01-07</td>\n",
       "      <td>MMM</td>\n",
       "      <td>148.737030</td>\n",
       "      <td>150.459869</td>\n",
       "      <td>150.911377</td>\n",
       "      <td>148.177261</td>\n",
       "      <td>148.938126</td>\n",
       "      <td>3349039.0</td>\n",
       "      <td>01/07/2022</td>\n",
       "    </tr>\n",
       "  </tbody>\n",
       "</table>\n",
       "</div>"
      ],
      "text/plain": [
       "        Date Symbol   Adj Close       Close        High         Low  \\\n",
       "0 2022-01-03    MMM  146.910370  148.612045  149.740799  147.023407   \n",
       "1 2022-01-04    MMM  148.968475  150.693985  151.555191  148.854507   \n",
       "2 2022-01-05    MMM  148.356827  150.075256  151.989960  147.993317   \n",
       "3 2022-01-06    MMM  147.125275  148.829437  151.571899  148.444809   \n",
       "4 2022-01-07    MMM  148.737030  150.459869  150.911377  148.177261   \n",
       "\n",
       "         Open     Volume Formatted Date  \n",
       "0  149.096985  2309117.0     01/03/2022  \n",
       "1  149.230774  3016551.0     01/04/2022  \n",
       "2  148.102005  3531070.0     01/05/2022  \n",
       "3  151.237457  2996458.0     01/06/2022  \n",
       "4  148.938126  3349039.0     01/07/2022  "
      ]
     },
     "execution_count": 196,
     "metadata": {},
     "output_type": "execute_result"
    }
   ],
   "source": [
    "open_close_df.head()"
   ]
  },
  {
   "cell_type": "code",
   "execution_count": 197,
   "id": "0184bb60-261d-4ea1-a570-02c3ce21847c",
   "metadata": {
    "tags": []
   },
   "outputs": [
    {
     "data": {
      "text/plain": [
       "<Axes: >"
      ]
     },
     "execution_count": 197,
     "metadata": {},
     "output_type": "execute_result"
    },
    {
     "data": {
      "image/png": "[encoded data removed]",
      "text/plain": [
       "<Figure size 640x480 with 1 Axes>"
      ]
     },
     "metadata": {},
     "output_type": "display_data"
    }
   ],
   "source": [
    "sns.heatmap(open_close_df.isnull(), cbar = False)"
   ]
  },
  {
   "cell_type": "code",
   "execution_count": 198,
   "id": "427ed8d8-97d0-4541-8c30-a362c6c8b9eb",
   "metadata": {
    "tags": []
   },
   "outputs": [],
   "source": [
    "# Drop the \"last_processing_date\" column\n",
    "new_df = open_close_df.drop(columns=[\"Date\"])"
   ]
  },
  {
   "cell_type": "code",
   "execution_count": 199,
   "id": "886807cd-f5b0-4a65-ba11-aab0638d782e",
   "metadata": {
    "tags": []
   },
   "outputs": [],
   "source": [
    "# Rename the column \"Symbol\"\n",
    "new_df.rename(columns = {\"Symbol\": \"ticker\"}, inplace = True)"
   ]
  },
  {
   "cell_type": "code",
   "execution_count": 200,
   "id": "62b66983-b488-41ed-8b81-0bb913f20845",
   "metadata": {
    "tags": []
   },
   "outputs": [],
   "source": [
    "\n",
    "new_df[\"ticker/date\"] = new_df[\"ticker\"] + new_df[\"Formatted Date\"]"
   ]
  },
  {
   "cell_type": "code",
   "execution_count": 201,
   "id": "87c90d6b-da4a-419b-b400-33ca5ba6d3bf",
   "metadata": {
    "tags": []
   },
   "outputs": [
    {
     "data": {
      "text/html": [
       "<div>\n",
       "<style scoped>\n",
       "    .dataframe tbody tr th:only-of-type {\n",
       "        vertical-align: middle;\n",
       "    }\n",
       "\n",
       "    .dataframe tbody tr th {\n",
       "        vertical-align: top;\n",
       "    }\n",
       "\n",
       "    .dataframe thead th {\n",
       "        text-align: right;\n",
       "    }\n",
       "</style>\n",
       "<table border=\"1\" class=\"dataframe\">\n",
       "  <thead>\n",
       "    <tr style=\"text-align: right;\">\n",
       "      <th></th>\n",
       "      <th>ticker</th>\n",
       "      <th>Adj Close</th>\n",
       "      <th>Close</th>\n",
       "      <th>High</th>\n",
       "      <th>Low</th>\n",
       "      <th>Open</th>\n",
       "      <th>Volume</th>\n",
       "      <th>Formatted Date</th>\n",
       "      <th>ticker/date</th>\n",
       "    </tr>\n",
       "  </thead>\n",
       "  <tbody>\n",
       "    <tr>\n",
       "      <th>0</th>\n",
       "      <td>MMM</td>\n",
       "      <td>146.910370</td>\n",
       "      <td>148.612045</td>\n",
       "      <td>149.740799</td>\n",
       "      <td>147.023407</td>\n",
       "      <td>149.096985</td>\n",
       "      <td>2309117.0</td>\n",
       "      <td>01/03/2022</td>\n",
       "      <td>MMM01/03/2022</td>\n",
       "    </tr>\n",
       "    <tr>\n",
       "      <th>1</th>\n",
       "      <td>MMM</td>\n",
       "      <td>148.968475</td>\n",
       "      <td>150.693985</td>\n",
       "      <td>151.555191</td>\n",
       "      <td>148.854507</td>\n",
       "      <td>149.230774</td>\n",
       "      <td>3016551.0</td>\n",
       "      <td>01/04/2022</td>\n",
       "      <td>MMM01/04/2022</td>\n",
       "    </tr>\n",
       "    <tr>\n",
       "      <th>2</th>\n",
       "      <td>MMM</td>\n",
       "      <td>148.356827</td>\n",
       "      <td>150.075256</td>\n",
       "      <td>151.989960</td>\n",
       "      <td>147.993317</td>\n",
       "      <td>148.102005</td>\n",
       "      <td>3531070.0</td>\n",
       "      <td>01/05/2022</td>\n",
       "      <td>MMM01/05/2022</td>\n",
       "    </tr>\n",
       "    <tr>\n",
       "      <th>3</th>\n",
       "      <td>MMM</td>\n",
       "      <td>147.125275</td>\n",
       "      <td>148.829437</td>\n",
       "      <td>151.571899</td>\n",
       "      <td>148.444809</td>\n",
       "      <td>151.237457</td>\n",
       "      <td>2996458.0</td>\n",
       "      <td>01/06/2022</td>\n",
       "      <td>MMM01/06/2022</td>\n",
       "    </tr>\n",
       "    <tr>\n",
       "      <th>4</th>\n",
       "      <td>MMM</td>\n",
       "      <td>148.737030</td>\n",
       "      <td>150.459869</td>\n",
       "      <td>150.911377</td>\n",
       "      <td>148.177261</td>\n",
       "      <td>148.938126</td>\n",
       "      <td>3349039.0</td>\n",
       "      <td>01/07/2022</td>\n",
       "      <td>MMM01/07/2022</td>\n",
       "    </tr>\n",
       "  </tbody>\n",
       "</table>\n",
       "</div>"
      ],
      "text/plain": [
       "  ticker   Adj Close       Close        High         Low        Open  \\\n",
       "0    MMM  146.910370  148.612045  149.740799  147.023407  149.096985   \n",
       "1    MMM  148.968475  150.693985  151.555191  148.854507  149.230774   \n",
       "2    MMM  148.356827  150.075256  151.989960  147.993317  148.102005   \n",
       "3    MMM  147.125275  148.829437  151.571899  148.444809  151.237457   \n",
       "4    MMM  148.737030  150.459869  150.911377  148.177261  148.938126   \n",
       "\n",
       "      Volume Formatted Date    ticker/date  \n",
       "0  2309117.0     01/03/2022  MMM01/03/2022  \n",
       "1  3016551.0     01/04/2022  MMM01/04/2022  \n",
       "2  3531070.0     01/05/2022  MMM01/05/2022  \n",
       "3  2996458.0     01/06/2022  MMM01/06/2022  \n",
       "4  3349039.0     01/07/2022  MMM01/07/2022  "
      ]
     },
     "execution_count": 201,
     "metadata": {},
     "output_type": "execute_result"
    }
   ],
   "source": [
    "new_df.head()"
   ]
  },
  {
   "cell_type": "code",
   "execution_count": 202,
   "id": "cde6c20b-5e85-4838-b827-8b6e2d26ccbc",
   "metadata": {
    "tags": []
   },
   "outputs": [],
   "source": [
    "# Save the DataFrame to a CSV file\n",
    "new_df.to_csv(\"open_close.csv\", index = False)"
   ]
  },
  {
   "cell_type": "code",
   "execution_count": null,
   "id": "87443bc9-451b-41e0-b218-df39ccf1ac69",
   "metadata": {},
   "outputs": [],
   "source": [
    "\n",
    "\n",
    "\n"
   ]
  },
  {
   "cell_type": "markdown",
   "id": "f199f1a0-59e7-46e2-a0e8-3ef20c39b6f2",
   "metadata": {},
   "source": [
    "```\n",
    "Within this markdown cell, copy the line of text you used to import the data from your Terminal. This way, future analysts will be able to repeat your process.\n",
    "e.g.: Import the dataset with :\n",
    "                                \"mongoimport --type csv -d SP500 -c open_close --headerline --drop open_close.csv\"\n",
    "                                \"mongoimport --type csv -d SP500 -c SP500_ESG --headerline --drop sp500.csv\"\n",
    "```"
   ]
  },
  {
   "cell_type": "code",
   "execution_count": 214,
   "id": "1b6d64e4-e490-4e5f-9e7f-5d9a8ef83c5d",
   "metadata": {
    "tags": []
   },
   "outputs": [],
   "source": [
    "# Create an instance of MongoClient\n",
    "mongo = MongoClient(port = 27017)"
   ]
  },
  {
   "cell_type": "code",
   "execution_count": 215,
   "id": "43c9cc33-67f2-4dbb-af36-6c712d66650d",
   "metadata": {
    "tags": []
   },
   "outputs": [
    {
     "name": "stdout",
     "output_type": "stream",
     "text": [
      "['SP500', 'admin', 'autosaurus', 'classDB', 'config', 'epa', 'fruits_db', 'gardenDB', 'local', 'petsitly_marketing', 'travel_db', 'uk_food']\n"
     ]
    }
   ],
   "source": [
    "# Confirm that our new database was created\n",
    "MongoDB = mongo.list_database_names()\n",
    "print(MongoDB)"
   ]
  },
  {
   "cell_type": "code",
   "execution_count": 216,
   "id": "d468e1d6-ce58-40eb-b792-eccb11ca05ce",
   "metadata": {
    "tags": []
   },
   "outputs": [],
   "source": [
    "# Assign the uk_food database to a variable name\n",
    "db = mongo[\"SP500\"]"
   ]
  },
  {
   "cell_type": "code",
   "execution_count": 217,
   "id": "e56e3ad7-76cb-4173-9196-83983601218a",
   "metadata": {
    "tags": []
   },
   "outputs": [],
   "source": [
    "# Fetch data from collections\n",
    "SP500_ESG = db[\"SP500\"]\n",
    "open_close = db[\"SP500\"]"
   ]
  },
  {
   "cell_type": "code",
   "execution_count": 218,
   "id": "b8ab700f-33dd-49a3-a863-004ec51617db",
   "metadata": {
    "tags": []
   },
   "outputs": [
    {
     "name": "stdout",
     "output_type": "stream",
     "text": [
      "['open_close', 'SP500_ESG']\n"
     ]
    }
   ],
   "source": [
    "# Review the collections in our new database\n",
    "collections = db.list_collection_names()\n",
    "print(collections)"
   ]
  },
  {
   "cell_type": "code",
   "execution_count": 219,
   "id": "524f111a-1630-446a-a858-e7aaf32a6c69",
   "metadata": {
    "tags": []
   },
   "outputs": [
    {
     "name": "stdout",
     "output_type": "stream",
     "text": [
      "{'Formatted Date': '04/19/2022',\n",
      " '_id': ObjectId('66207532148fecfa8a159d06'),\n",
      " 'cik': 1744489,\n",
      " 'currency': 'USD',\n",
      " 'environment_grade': 'A',\n",
      " 'environment_level': 'High',\n",
      " 'environment_score': 510,\n",
      " 'exchange': 'NEW YORK STOCK EXCHANGE, INC.',\n",
      " 'governance_grade': 'BB',\n",
      " 'governance_level': 'Medium',\n",
      " 'governance_score': 321,\n",
      " 'industry': 'Media',\n",
      " 'logo': 'https://static.finnhub.io/logo/ef50b4a2b263c847211b567a01edb702cae8b9ef46ca1f6856ca4432a70e9f52.png',\n",
      " 'name': 'Walt Disney Co',\n",
      " 'social_grade': 'BB',\n",
      " 'social_level': 'Medium',\n",
      " 'social_score': 316,\n",
      " 'ticker': 'DIS',\n",
      " 'ticker/date': 'DIS04/19/2022',\n",
      " 'total_grade': 'BBB',\n",
      " 'total_level': 'High',\n",
      " 'total_score': 1147,\n",
      " 'weburl': 'https://thewaltdisneycompany.com/'}\n"
     ]
    }
   ],
   "source": [
    "# review a document in the SP500_ESG collection\n",
    "one_doc = db.SP500_ESG.find_one()\n",
    "pprint(one_doc)"
   ]
  },
  {
   "cell_type": "code",
   "execution_count": 220,
   "id": "6e38dcbb-b2d6-4298-bed2-4c7b8cc1a185",
   "metadata": {
    "tags": []
   },
   "outputs": [
    {
     "name": "stdout",
     "output_type": "stream",
     "text": [
      "{'Adj Close': 148.96847534179688,\n",
      " 'Close': 150.69398498535156,\n",
      " 'Formatted Date': '01/04/2022',\n",
      " 'High': 151.55519104003906,\n",
      " 'Low': 148.85450744628906,\n",
      " 'Open': 149.23077392578125,\n",
      " 'Volume': 3016551.0,\n",
      " '_id': ObjectId('6620751f4844cc0adb0ae01a'),\n",
      " 'ticker': 'MMM',\n",
      " 'ticker/date': 'MMM01/04/2022'}\n"
     ]
    }
   ],
   "source": [
    "# review a document in the open_close collection\n",
    "one_doc = db.open_close.find_one()\n",
    "pprint(one_doc)"
   ]
  },
  {
   "cell_type": "code",
   "execution_count": 223,
   "id": "8ad56207-aa5c-41de-9457-273be8b36fb4",
   "metadata": {
    "tags": []
   },
   "outputs": [
    {
     "name": "stdout",
     "output_type": "stream",
     "text": [
      "Merged data inserted into 'merged_collection' successfully!\n"
     ]
    }
   ],
   "source": [
    "# Merge data from 'open_close' and 'SP500_ESG' collections\n",
    "result = db.SP500_ESG.aggregate([\n",
    "    {\n",
    "        \"$lookup\": {\n",
    "            \"from\": \"open_close\",\n",
    "            \"localField\": \"ticker/date\",\n",
    "            \"foreignField\": \"ticker/date\",\n",
    "            \"as\": \"merged_data\"\n",
    "        }\n",
    "    }\n",
    "])\n",
    "\n",
    "# Create a new collection and insert the merged data\n",
    "merged_collection = db[\"sp500_esg_date\"]\n",
    "for doc in result:\n",
    "    merged_collection.insert_one(doc)\n",
    "\n",
    "print(\"Merged data inserted into 'merged_collection' successfully!\")"
   ]
  },
  {
   "cell_type": "code",
   "execution_count": 224,
   "id": "be08bad6-8d70-4cad-a76c-7df30e1045c1",
   "metadata": {
    "tags": []
   },
   "outputs": [],
   "source": [
    "# Fetch data from the collection\n",
    "cursor = merged_collection.find({})\n",
    "data = list(cursor)\n",
    "\n",
    "# Create a DataFram\n",
    "df = pd.DataFrame(data)\n",
    "\n",
    "# Save the DataFrame to a CSV file\n",
    "df.to_csv(\"sp500_esg_date.csv\", index = False)"
   ]
  },
  {
   "cell_type": "code",
   "execution_count": null,
   "id": "55e34490-4a60-4b30-89d3-37d7e97bd91c",
   "metadata": {},
   "outputs": [],
   "source": []
  },
  {
   "cell_type": "code",
   "execution_count": null,
   "id": "b94982be-eeb3-4dba-b39a-71f5d935c566",
   "metadata": {},
   "outputs": [],
   "source": []
  }
 ],
 "metadata": {
  "kernelspec": {
   "display_name": "Python 3 (ipykernel)",
   "language": "python",
   "name": "python3"
  },
  "language_info": {
   "codemirror_mode": {
    "name": "ipython",
    "version": 3
   },
   "file_extension": ".py",
   "mimetype": "text/x-python",
   "name": "python",
   "nbconvert_exporter": "python",
   "pygments_lexer": "ipython3",
   "version": "3.10.13"
  }
 },
 "nbformat": 4,
 "nbformat_minor": 5
}
