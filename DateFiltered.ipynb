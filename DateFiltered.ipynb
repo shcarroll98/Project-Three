{
 "cells": [
  {
   "cell_type": "code",
   "execution_count": 1,
   "id": "3f41e5df-2eb4-48e1-b01a-03dc91a4bfad",
   "metadata": {},
   "outputs": [
    {
     "name": "stdout",
     "output_type": "stream",
     "text": [
      "              Date Symbol   Adj Close       Close        High         Low  \\\n",
      "3021    2022-01-03    MMM  146.910370  148.612045  149.740799  147.023407   \n",
      "3022    2022-01-04    MMM  148.968475  150.693985  151.555191  148.854507   \n",
      "3023    2022-01-05    MMM  148.356827  150.075256  151.989960  147.993317   \n",
      "3024    2022-01-06    MMM  147.125275  148.829437  151.571899  148.444809   \n",
      "3025    2022-01-07    MMM  148.737030  150.459869  150.911377  148.177261   \n",
      "...            ...    ...         ...         ...         ...         ...   \n",
      "1806953 2022-12-23    ZTS  144.115540  145.759995  145.889999  143.539993   \n",
      "1806954 2022-12-27    ZTS  143.660751  145.300003  146.149994  143.570007   \n",
      "1806955 2022-12-28    ZTS  142.207321  143.830002  146.639999  143.770004   \n",
      "1806956 2022-12-29    ZTS  146.478577  148.149994  148.509995  145.139999   \n",
      "1806957 2022-12-30    ZTS  144.896637  146.550003  147.789993  144.740005   \n",
      "\n",
      "               Open     Volume  \n",
      "3021     149.096985  2309117.0  \n",
      "3022     149.230774  3016551.0  \n",
      "3023     148.102005  3531070.0  \n",
      "3024     151.237457  2996458.0  \n",
      "3025     148.938126  3349039.0  \n",
      "...             ...        ...  \n",
      "1806953  144.509995  1017900.0  \n",
      "1806954  145.910004   957900.0  \n",
      "1806955  145.179993  1443900.0  \n",
      "1806956  145.199997  1298900.0  \n",
      "1806957  147.199997  1249500.0  \n",
      "\n",
      "[126253 rows x 8 columns]\n"
     ]
    }
   ],
   "source": [
    "import pandas as pd\n",
    "\n",
    "# Read the CSV file into a DataFrame\n",
    "df = pd.read_csv('C:/Users/secar/OneDrive/Documents/Bootcamp/sp500_stocks.csv')\n",
    "\n",
    "\n",
    "# Convert the date column to datetime format\n",
    "df['Date'] = pd.to_datetime(df['Date'])\n",
    "\n",
    "# Filter dates that are in 2022\n",
    "df = df[df['Date'].dt.year == 2022]\n",
    "\n",
    "# If you want to save the filtered DataFrame to a new CSV file\n",
    "df.to_csv('datefilteredesgdata.csv', index=False)\n",
    "\n",
    "print(df)"
   ]
  },
  {
   "cell_type": "code",
   "execution_count": 2,
   "id": "fafc2ea1-6b92-47f3-9712-9e150e2d2831",
   "metadata": {},
   "outputs": [],
   "source": [
    "df.to_csv('datefilteredesgdata.csv', index=False)"
   ]
  },
  {
   "cell_type": "code",
   "execution_count": null,
   "id": "5c9dd5bf-5fba-4bf0-a2db-fd9e2e563cf1",
   "metadata": {},
   "outputs": [],
   "source": []
  }
 ],
 "metadata": {
  "kernelspec": {
   "display_name": "Python 3 (ipykernel)",
   "language": "python",
   "name": "python3"
  },
  "language_info": {
   "codemirror_mode": {
    "name": "ipython",
    "version": 3
   },
   "file_extension": ".py",
   "mimetype": "text/x-python",
   "name": "python",
   "nbconvert_exporter": "python",
   "pygments_lexer": "ipython3",
   "version": "3.11.5"
  }
 },
 "nbformat": 4,
 "nbformat_minor": 5
}
