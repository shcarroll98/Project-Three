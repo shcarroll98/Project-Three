{
 "cells": [
  {
   "cell_type": "markdown",
   "id": "ec6ce84f-d2ac-49e1-bc10-47d68a5bcadf",
   "metadata": {},
   "source": [
    "```\n",
    "Within this markdown cell, copy the line of text you used to import the data from your Terminal. This way, future analysts will be able to repeat your process.\n",
    "e.g.: Import the dataset with :\n",
    "                                \"mongoimport --type csv -d SP500 -c SP500_ESG --headerline --drop sp500_esg_ceo_info-filtered.csv\"\n",
    "                                \"mongoimport --type csv -d SP500 -c date --headerline --drop datefiltered_data.csv\"\n",
    "```"
   ]
  },
  {
   "cell_type": "code",
   "execution_count": 4,
   "id": "11567a33-f487-454d-8e03-2d8b41530838",
   "metadata": {
    "tags": []
   },
   "outputs": [],
   "source": [
    "# Import dependencies\n",
    "import pandas as pd\n",
    "from pymongo import MongoClient\n",
    "from pprint import pprint\n",
    "import seaborn as sns\n",
    "\n"
   ]
  },
  {
   "cell_type": "code",
   "execution_count": 5,
   "id": "201867c1-0fcc-4cef-998c-fc7a3334d77a",
   "metadata": {
    "tags": []
   },
   "outputs": [],
   "source": [
    "# Create an instance of MongoClient\n",
    "mongo = MongoClient(port = 27017)"
   ]
  },
  {
   "cell_type": "code",
   "execution_count": 7,
   "id": "5bf1964e-8b2b-4250-b07c-f2e0d6bbfb6f",
   "metadata": {
    "tags": []
   },
   "outputs": [
    {
     "name": "stdout",
     "output_type": "stream",
     "text": [
      "['SP500', 'admin', 'autosaurus', 'classDB', 'config', 'epa', 'fruits_db', 'gardenDB', 'local', 'petsitly_marketing', 'travel_db', 'uk_food']\n"
     ]
    }
   ],
   "source": [
    "# Confirm that our new database was created\n",
    "MongoDB = mongo.list_database_names()\n",
    "print(MongoDB)"
   ]
  },
  {
   "cell_type": "code",
   "execution_count": 8,
   "id": "637b6662-78ad-4cca-afb6-554ae63e29f8",
   "metadata": {
    "tags": []
   },
   "outputs": [],
   "source": [
    "# Assign the uk_food database to a variable name\n",
    "db = mongo[\"SP500\"]"
   ]
  },
  {
   "cell_type": "code",
   "execution_count": 9,
   "id": "0b9ce93d-7a15-4edb-acc9-b2be3f19a953",
   "metadata": {
    "tags": []
   },
   "outputs": [
    {
     "name": "stdout",
     "output_type": "stream",
     "text": [
      "['date', 'SP500_ESG']\n"
     ]
    }
   ],
   "source": [
    "# Review the collections in our new database\n",
    "collections = db.list_collection_names()\n",
    "print(collections)"
   ]
  },
  {
   "cell_type": "code",
   "execution_count": 10,
   "id": "26c3eeee-d655-4082-9d8a-79891f832555",
   "metadata": {
    "tags": []
   },
   "outputs": [],
   "source": [
    "# Fetch data from collections\n",
    "date = db[\"SP500\"]\n",
    "SP500_ESG = db[\"SP500\"]"
   ]
  },
  {
   "cell_type": "code",
   "execution_count": 20,
   "id": "ed67aef0-8b22-4857-b2cb-f078dd11be62",
   "metadata": {
    "tags": []
   },
   "outputs": [
    {
     "name": "stdout",
     "output_type": "stream",
     "text": [
      "Field 'Symbol' renamed to 'Ticker' successfully!\n"
     ]
    }
   ],
   "source": [
    "# Rename Symbol fiel in date collection\n",
    "db.date.update_many({}, {\"$rename\": {\"Symbol\": \"Ticker\"}})\n",
    "\n",
    "print(\"Field 'Symbol' renamed to 'Ticker' successfully!\")"
   ]
  },
  {
   "cell_type": "code",
   "execution_count": 31,
   "id": "099e8bac-f459-4d82-97f7-88fa14eeb77a",
   "metadata": {
    "tags": []
   },
   "outputs": [
    {
     "name": "stdout",
     "output_type": "stream",
     "text": [
      "Merged data inserted into 'merged_collection' successfully!\n"
     ]
    }
   ],
   "source": [
    "# Merge data from 'date' and 'SP500_ESG' collections\n",
    "result = db.SP500_ESG.aggregate([\n",
    "    {\n",
    "        \"$lookup\": {\n",
    "            \"from\": \"date\",\n",
    "            \"localField\": \"Ticker\",\n",
    "            \"foreignField\": \"Ticker\",\n",
    "            \"as\": \"merged_data\"\n",
    "        }\n",
    "    }\n",
    "])\n",
    "\n",
    "# Create a new collection and insert the merged data\n",
    "merged_collection = db[\"sp500_esg_date\"]\n",
    "for doc in result:\n",
    "    merged_collection.insert_one(doc)\n",
    "\n",
    "print(\"Merged data inserted into 'merged_collection' successfully!\")"
   ]
  },
  {
   "cell_type": "code",
   "execution_count": 32,
   "id": "e4f4201b-10ba-4924-84ad-d69fada70aae",
   "metadata": {},
   "outputs": [],
   "source": [
    "# Fetch data from the collection\n",
    "cursor = merged_collection.find({})\n",
    "data = list(cursor)\n",
    "\n",
    "# Create a DataFram\n",
    "df = pd.DataFrame(data)\n",
    "\n",
    "# Save the DataFrame to a CSV file\n",
    "df.to_csv(\"sp500_esg_date.csv\", index = False)"
   ]
  },
  {
   "cell_type": "code",
   "execution_count": null,
   "id": "abc13702-68db-435e-889e-c9459a5faf2a",
   "metadata": {},
   "outputs": [],
   "source": []
  },
  {
   "cell_type": "code",
   "execution_count": null,
   "id": "50da3384-e5bd-4c71-8dae-c955cce2fe22",
   "metadata": {},
   "outputs": [],
   "source": []
  }
 ],
 "metadata": {
  "kernelspec": {
   "display_name": "Python 3 (ipykernel)",
   "language": "python",
   "name": "python3"
  },
  "language_info": {
   "codemirror_mode": {
    "name": "ipython",
    "version": 3
   },
   "file_extension": ".py",
   "mimetype": "text/x-python",
   "name": "python",
   "nbconvert_exporter": "python",
   "pygments_lexer": "ipython3",
   "version": "3.10.13"
  }
 },
 "nbformat": 4,
 "nbformat_minor": 5
}
